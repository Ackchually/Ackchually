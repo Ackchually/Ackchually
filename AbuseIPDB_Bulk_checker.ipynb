{
  "nbformat": 4,
  "nbformat_minor": 0,
  "metadata": {
    "colab": {
      "provenance": [],
      "collapsed_sections": [
        "S4ics_MmW2-F"
      ],
      "authorship_tag": "ABX9TyP4n10lJHJ9N5CUN1WOP3MI",
      "include_colab_link": true
    },
    "kernelspec": {
      "name": "python3",
      "display_name": "Python 3"
    },
    "language_info": {
      "name": "python"
    }
  },
  "cells": [
    {
      "cell_type": "markdown",
      "metadata": {
        "id": "view-in-github",
        "colab_type": "text"
      },
      "source": [
        "<a href=\"https://colab.research.google.com/github/Ackchually/Ackchually/blob/main/AbuseIPDB_Bulk_checker.ipynb\" target=\"_parent\"><img src=\"https://colab.research.google.com/assets/colab-badge.svg\" alt=\"Open In Colab\"/></a>"
      ]
    },
    {
      "cell_type": "markdown",
      "source": [
        "#Import library"
      ],
      "metadata": {
        "id": "2bMHpBa11sHs"
      }
    },
    {
      "cell_type": "code",
      "source": [
        "!pip install -U pycountry\n",
        "import pycountry"
      ],
      "metadata": {
        "colab": {
          "base_uri": "https://localhost:8080/"
        },
        "id": "zClTigoI11BO",
        "outputId": "c89c8e12-032e-475f-fbb8-9cfaae3a5240"
      },
      "execution_count": null,
      "outputs": [
        {
          "output_type": "stream",
          "name": "stdout",
          "text": [
            "Collecting pycountry\n",
            "  Downloading pycountry-22.3.5.tar.gz (10.1 MB)\n",
            "\u001b[2K     \u001b[90m━━━━━━━━━━━━━━━━━━━━━━━━━━━━━━━━━━━━━━━━\u001b[0m \u001b[32m10.1/10.1 MB\u001b[0m \u001b[31m17.1 MB/s\u001b[0m eta \u001b[36m0:00:00\u001b[0m\n",
            "\u001b[?25h  Installing build dependencies ... \u001b[?25l\u001b[?25hdone\n",
            "  Getting requirements to build wheel ... \u001b[?25l\u001b[?25hdone\n",
            "  Preparing metadata (pyproject.toml) ... \u001b[?25l\u001b[?25hdone\n",
            "Requirement already satisfied: setuptools in /usr/local/lib/python3.10/dist-packages (from pycountry) (67.7.2)\n",
            "Building wheels for collected packages: pycountry\n",
            "  Building wheel for pycountry (pyproject.toml) ... \u001b[?25l\u001b[?25hdone\n",
            "  Created wheel for pycountry: filename=pycountry-22.3.5-py2.py3-none-any.whl size=10681831 sha256=b23a38b710fce76107c1c88d617734705d6e92a613b9fd287bdec99f8ff3ae77\n",
            "  Stored in directory: /root/.cache/pip/wheels/03/57/cc/290c5252ec97a6d78d36479a3c5e5ecc76318afcb241ad9dbe\n",
            "Successfully built pycountry\n",
            "Installing collected packages: pycountry\n",
            "Successfully installed pycountry-22.3.5\n"
          ]
        }
      ]
    },
    {
      "cell_type": "markdown",
      "source": [
        "#Enter IP address"
      ],
      "metadata": {
        "id": "yMvUp5QoNMAZ"
      }
    },
    {
      "cell_type": "code",
      "execution_count": null,
      "metadata": {
        "id": "jxi2q1Kf4QP_",
        "colab": {
          "base_uri": "https://localhost:8080/"
        },
        "outputId": "370ee2c6-e14e-47a9-e9c2-18fb4db6f9ad"
      },
      "outputs": [
        {
          "output_type": "stream",
          "name": "stdout",
          "text": [
            "Please paste the IP addresses separated by commas: 181.201.133.100\n",
            "Done\n"
          ]
        }
      ],
      "source": [
        "import requests\n",
        "import json\n",
        "import pandas as pd\n",
        "import csv\n",
        "\n",
        "try:\n",
        "    ip = input(\"Please paste the IP addresses separated by commas: \").split(\",\")\n",
        "\n",
        "\n",
        "\n",
        "    API_KEY = ''\n",
        "    url = 'https://api.abuseipdb.com/api/v2/check'\n",
        "\n",
        "    headers = {\n",
        "        'Accept': 'application/json',\n",
        "        'Key': API_KEY\n",
        "    }\n",
        "\n",
        "    # Create an empty list to store the results\n",
        "    results = []\n",
        "\n",
        "    # Iterate through the IP addresses\n",
        "    for i in ip:\n",
        "        parameters = {\n",
        "            'ipAddress': i,\n",
        "            'maxAgeInDays': '90'}\n",
        "\n",
        "        response = requests.get(url=url, headers=headers, params=parameters)\n",
        "        json_data = json.loads(response.content)\n",
        "        json_main = json_data[\"data\"]\n",
        "\n",
        "        # Append the results to the list\n",
        "        results.append({\n",
        "            'ipAddress': json_main[\"ipAddress\"],\n",
        "            'abuseConfidenceScore': json_main[\"abuseConfidenceScore\"],\n",
        "            'isp': json_main[\"isp\"],\n",
        "            'countryCode': json_main[\"countryCode\"],\n",
        "            'isTor': json_main[\"isTor\"]\n",
        "        })\n",
        "\n",
        "    # Create a DataFrame from the results\n",
        "    df = pd.DataFrame(results)\n",
        "    print(\"Done\")\n",
        "except:\n",
        "    print(\"error\")"
      ]
    },
    {
      "cell_type": "markdown",
      "source": [
        "#IP"
      ],
      "metadata": {
        "id": "2Le0HAqvVsDl"
      }
    },
    {
      "cell_type": "code",
      "source": [
        "try:\n",
        "    # Print the 'abuseConfidenceScore' column\n",
        "    print(df['ipAddress'].to_string(index=False))\n",
        "except:\n",
        "      print(\"error\")"
      ],
      "metadata": {
        "id": "tcKjul--Vt49",
        "colab": {
          "base_uri": "https://localhost:8080/"
        },
        "outputId": "ac49394a-4b1b-4baf-85bc-f105da604710"
      },
      "execution_count": null,
      "outputs": [
        {
          "output_type": "stream",
          "name": "stdout",
          "text": [
            "181.201.133.100\n"
          ]
        }
      ]
    },
    {
      "cell_type": "markdown",
      "source": [
        "#abuseConfidenceScore"
      ],
      "metadata": {
        "id": "TDoT2DMVNSj4"
      }
    },
    {
      "cell_type": "code",
      "source": [
        "# Get the maximum length of the abuseConfidenceScore\n",
        "max_length = len(str(df['abuseConfidenceScore'].max()))\n",
        "\n",
        "# Use the format method to align the score to the left with a width of max_length\n",
        "df['abuseConfidenceScore'] = df['abuseConfidenceScore'].apply(lambda x: \"{:<{}}\".format(x, max_length))\n",
        "\n",
        "# Print the abuseConfidenceScore\n",
        "print(df['abuseConfidenceScore'].to_string(index=False).rstrip())\n"
      ],
      "metadata": {
        "id": "Ce7dcUPY_-UR",
        "colab": {
          "base_uri": "https://localhost:8080/"
        },
        "outputId": "f89edbc4-046c-4073-a7b8-deedd8ec4be0"
      },
      "execution_count": null,
      "outputs": [
        {
          "output_type": "stream",
          "name": "stdout",
          "text": [
            "0\n"
          ]
        }
      ]
    },
    {
      "cell_type": "markdown",
      "source": [
        "#Country"
      ],
      "metadata": {
        "id": "KWyuqzzfNY6P"
      }
    },
    {
      "cell_type": "code",
      "source": [
        "from pandas.core.indexes.numeric import Index\n",
        "\n",
        "def convert_code_to_name(code):\n",
        "    try:\n",
        "        country = pycountry.countries.get(alpha_2=code)\n",
        "        return country.name\n",
        "    except:\n",
        "        return \"None\"\n",
        "\n",
        "df['country_name'] = df['countryCode'].apply(convert_code_to_name)\n",
        "\n",
        "# Get the maximum length of the country names\n",
        "max_length = df['country_name'].str.len().max()\n",
        "\n",
        "# Use the ljust method to align the names to the left with a width of max_length\n",
        "df['country_name'] = df['country_name'].str.rstrip().str.ljust(max_length)\n",
        "\n",
        "# Print the country names\n",
        "print(df['country_name'].to_string(index=False).rstrip())"
      ],
      "metadata": {
        "id": "b5XU5IbXSk3-",
        "colab": {
          "base_uri": "https://localhost:8080/"
        },
        "outputId": "4c86f58b-f7c5-4c16-c7de-358f8c5bb15e"
      },
      "execution_count": null,
      "outputs": [
        {
          "output_type": "stream",
          "name": "stdout",
          "text": [
            "Chile\n"
          ]
        }
      ]
    },
    {
      "cell_type": "markdown",
      "source": [
        "# ISP"
      ],
      "metadata": {
        "id": "xULR7ip6NXD3"
      }
    },
    {
      "cell_type": "code",
      "source": [
        "# Get the maximum length of the country names\n",
        "max_length = df['isp'].str.len().max()\n",
        "\n",
        "# Use the ljust method to align the names to the left with a width of max_length\n",
        "df['isp'] = df['isp'].str.ljust(max_length)\n",
        "    # Print the 'isp' column\n",
        "print(df['isp'].to_string(index=False).strip())"
      ],
      "metadata": {
        "id": "B-1NSQOVA9Sy",
        "colab": {
          "base_uri": "https://localhost:8080/"
        },
        "outputId": "8a086caa-c15b-42c2-887e-20a2004bf056"
      },
      "execution_count": null,
      "outputs": [
        {
          "output_type": "stream",
          "name": "stdout",
          "text": [
            "Telefonica Movil de Chile S.A.\n"
          ]
        }
      ]
    },
    {
      "cell_type": "markdown",
      "source": [
        "# Is Tor (0 = false , 1 = true)"
      ],
      "metadata": {
        "id": "F7vjGNU6h8MB"
      }
    },
    {
      "cell_type": "code",
      "source": [
        "# Get the maximum length of the abuseConfidenceScore\n",
        "max_length = len(str(df['isTor'].max()))\n",
        "\n",
        "# Use the format method to align the score to the left with a width of max_length\n",
        "df['isTor'] = df['isTor'].apply(lambda x: \"{:<{}}\".format(x, max_length))\n",
        "\n",
        "# Print the abuseConfidenceScore\n",
        "print(df['isTor'].to_string(index=False).rstrip())"
      ],
      "metadata": {
        "colab": {
          "base_uri": "https://localhost:8080/"
        },
        "id": "FYZuZ0eph8bg",
        "outputId": "f3f02983-36b8-42f4-d702-41453b610d08"
      },
      "execution_count": null,
      "outputs": [
        {
          "output_type": "stream",
          "name": "stdout",
          "text": [
            "0\n"
          ]
        }
      ]
    }
  ]
}